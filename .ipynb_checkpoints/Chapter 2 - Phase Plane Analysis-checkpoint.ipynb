{
 "cells": [
  {
   "cell_type": "markdown",
   "metadata": {},
   "source": [
    "# Chapter 2 - Phase Plane Analysis\n",
    "\n",
    "Phase plane analysis is a graphical method that is used with first- and second-order systems (or systems that can be approximated as such). By graphically solving the differential equations, we obtain a family of trajectories that allow us to see the motion of the system.\n",
    "\n",
    "## Advantages\n",
    "\n",
    "- Visualization of the system\n",
    "    - see what happens with various initial conditions with out solving differential equations\n",
    "- small or smooth trajectories to strong nonlinearities and to “hard” trajectories\n",
    "- control systems can be approximated as second-order systems\n",
    "\n",
    "## Disadvantages\n",
    "- restricted to first- or second-order systems"
   ]
  },
  {
   "cell_type": "markdown",
   "metadata": {},
   "source": [
    "## Concepts of Phase Plane Analysis\n",
    "\n",
    "### Phase Portraits\n",
    "\n",
    "We shall concern our study with second order autonomous systems given by\n",
    "\n",
    "\\begin{align}\n",
    "\\dot{x}_1 &= f_1 ( x_1, x_2 ) \\\\\n",
    "\\dot{x}_2 &= f_2 ( x_1, x_2 )\n",
    "\\end{align}\n",
    "\n",
    "where $\\mathbf{x} (t)$ is a solution to (1) and (2) with initial conditions $\\mathbf{x} (0) = \\mathbf{x}_0$ and is represented as a curve on the phase plane varying from $t \\in [0, 1)$ and is called a phase plane trajectory. A family of these curves (solutions with varying initial values) is a phase portrait."
   ]
  },
  {
   "cell_type": "markdown",
   "metadata": {},
   "source": [
    "#### Example: Phase portrait of a mass-spring system [1]\n",
    "\n",
    "A spring-mass system is shown in Figure 1(a) and described by\n",
    "\n",
    "\\begin{equation*}\n",
    "\\ddot{x} + \\dot{x}= 0\n",
    "\\end{equation*}\n",
    "\n",
    "In this example, the mass starts at rest and the solution to the above equation is\n",
    "\n",
    "\\begin{align*}\n",
    "x & = x_0 \\cos (t) \\\\\n",
    "\\dot{x} & = -x_0 \\sin (t)\n",
    "\\end{align*}\n",
    "\n",
    "If we eliminate $t$ from the above equations, then we get\n",
    "\n",
    "\\begin{equation*}\n",
    "x^2 + \\dot{x}^2 = x_0^2\n",
    "\\end{equation*}\n",
    "\n",
    "which is the familiar equation for a circle centered at the origin with radius $x_0$, which is the initial displacement of the mass."
   ]
  }
 ],
 "metadata": {
  "kernelspec": {
   "display_name": "Python 3",
   "language": "python",
   "name": "python3"
  },
  "language_info": {
   "codemirror_mode": {
    "name": "ipython",
    "version": 3
   },
   "file_extension": ".py",
   "mimetype": "text/x-python",
   "name": "python",
   "nbconvert_exporter": "python",
   "pygments_lexer": "ipython3",
   "version": "3.6.1"
  }
 },
 "nbformat": 4,
 "nbformat_minor": 2
}
